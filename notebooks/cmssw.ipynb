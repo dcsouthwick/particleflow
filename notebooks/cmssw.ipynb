{
 "cells": [
  {
   "cell_type": "code",
   "execution_count": null,
   "id": "cooperative-purpose",
   "metadata": {},
   "outputs": [],
   "source": [
    "import pickle\n",
    "import numpy as np\n",
    "import mplhep\n",
    "import awkward\n",
    "import matplotlib.pyplot as plt"
   ]
  },
  {
   "cell_type": "code",
   "execution_count": null,
   "id": "extreme-exhibit",
   "metadata": {},
   "outputs": [],
   "source": [
    "# physics_process = \"ttbar\"\n",
    "# data_mlpf = awkward.Array(pickle.load(open(\"/home/joosep/reco/mlpf/CMSSW_11_3_0_pre2/11834.13/out.pkl\", \"rb\")))\n",
    "# data_baseline = awkward.Array(pickle.load(open(\"/home/joosep/reco/mlpf/CMSSW_11_3_0_pre2/11834.13_baseline/out.pkl\", \"rb\")))"
   ]
  },
  {
   "cell_type": "code",
   "execution_count": null,
   "id": "excited-shepherd",
   "metadata": {},
   "outputs": [],
   "source": [
    "physics_process = \"singlepi\"\n",
    "data_mlpf = awkward.Array(pickle.load(open(\"/home/joosep/reco/mlpf/CMSSW_11_3_0_pre2/11688.0_mlpf/out.pkl\", \"rb\")))\n",
    "data_baseline = awkward.Array(pickle.load(open(\"/home/joosep/reco/mlpf/CMSSW_11_3_0_pre2/11688.0_baseline/out.pkl\", \"rb\")))"
   ]
  },
  {
   "cell_type": "code",
   "execution_count": null,
   "id": "architectural-coordinator",
   "metadata": {},
   "outputs": [],
   "source": [
    "def cms_label(x0=0.12, x1=0.23, x2=0.67, y=0.90):\n",
    "    plt.figtext(x0, y,'CMS',fontweight='bold', wrap=True, horizontalalignment='left', fontsize=12)\n",
    "    plt.figtext(x1, y,'Simulation Preliminary', style='italic', wrap=True, horizontalalignment='left', fontsize=10)\n",
    "    plt.figtext(x2, y,'Run 3 (14 TeV)',  wrap=True, horizontalalignment='left', fontsize=10)\n",
    "    \n",
    "physics_process_str = {\n",
    "    \"ttbar\": \"$\\mathrm{t}\\overline{\\mathrm{t}}$ events\",\n",
    "    \"singlepi\": \"single $\\pi^{\\pm}$ events\",\n",
    "}\n",
    "def sample_label(ax, x=0.03, y=0.98):\n",
    "    plt.text(x, y, physics_process_str[physics_process], va=\"top\", ha=\"left\", size=10, transform=ax.transAxes)\n"
   ]
  },
  {
   "cell_type": "code",
   "execution_count": null,
   "id": "speaking-contents",
   "metadata": {},
   "outputs": [],
   "source": [
    "plt.figure(figsize=(5, 5))\n",
    "ax = plt.axes()\n",
    "\n",
    "bins = np.linspace(0, 1000, 61)\n",
    "plt.hist(awkward.flatten(data_baseline[\"ak4PFJetsCHS\"][\"pt\"]), bins=bins, histtype=\"step\", lw=2, label=\"PF\");\n",
    "plt.hist(awkward.flatten(data_mlpf[\"ak4PFJetsCHS\"][\"pt\"]), bins=bins, histtype=\"step\", lw=2, label=\"MLPF\");\n",
    "plt.yscale(\"log\")\n",
    "cms_label()\n",
    "sample_label(ax, x=0.1)\n",
    "plt.xlabel(\"ak4PFJetsCHS $p_T$ [GeV]\")\n",
    "plt.ylabel(\"Number of jets\")\n",
    "plt.legend(loc=\"best\")\n",
    "\n",
    "plt.savefig(\"ak4jet_pt_{}.pdf\".format(physics_process), bbox_inches=\"tight\")"
   ]
  },
  {
   "cell_type": "code",
   "execution_count": null,
   "id": "formed-single",
   "metadata": {},
   "outputs": [],
   "source": [
    "plt.figure(figsize=(5, 5))\n",
    "\n",
    "bins = np.linspace(0, 2000, 61)\n",
    "plt.hist(awkward.flatten(data_baseline[\"ak4PFJetsCHS\"][\"energy\"]), bins=bins, histtype=\"step\", lw=2, label=\"PF\");\n",
    "plt.hist(awkward.flatten(data_mlpf[\"ak4PFJetsCHS\"][\"energy\"]), bins=bins, histtype=\"step\", lw=2, label=\"MLPF\");\n",
    "plt.yscale(\"log\")\n",
    "cms_label()\n",
    "sample_label(ax, x=0.1)\n",
    "\n",
    "plt.xlabel(\"ak4PFJetsCHS $E$ [GeV]\")\n",
    "plt.ylabel(\"Number of jets\")\n",
    "plt.legend(loc=\"best\")\n",
    "\n",
    "plt.savefig(\"ak4jet_energy_{}.pdf\".format(physics_process), bbox_inches=\"tight\")"
   ]
  },
  {
   "cell_type": "code",
   "execution_count": null,
   "id": "nonprofit-polish",
   "metadata": {},
   "outputs": [],
   "source": [
    "plt.figure(figsize=(5, 5))\n",
    "\n",
    "bins = np.linspace(-6, 6, 41)\n",
    "plt.hist(awkward.flatten(data_baseline[\"ak4PFJetsCHS\"][\"eta\"]), bins=bins, histtype=\"step\", lw=2, label=\"PF\");\n",
    "plt.hist(awkward.flatten(data_mlpf[\"ak4PFJetsCHS\"][\"eta\"]), bins=bins, histtype=\"step\", lw=2, label=\"MLPF\");\n",
    "#plt.yscale(\"log\")\n",
    "cms_label()\n",
    "sample_label(ax)\n",
    "\n",
    "plt.xlabel(\"ak4PFJetsCHS $\\eta$\")\n",
    "plt.ylabel(\"Number of jets\")\n",
    "plt.legend(loc=\"best\")\n",
    "\n",
    "plt.savefig(\"ak4jet_eta_{}.pdf\".format(physics_process), bbox_inches=\"tight\")"
   ]
  },
  {
   "cell_type": "code",
   "execution_count": null,
   "id": "center-heath",
   "metadata": {},
   "outputs": [],
   "source": [
    "color_map = {\n",
    "    1: \"red\",\n",
    "    2: \"blue\",\n",
    "    11: \"orange\",\n",
    "    22: \"cyan\",\n",
    "    13: \"purple\",\n",
    "    130: \"green\",\n",
    "    211: \"black\"\n",
    "}"
   ]
  },
  {
   "cell_type": "code",
   "execution_count": null,
   "id": "sufficient-medication",
   "metadata": {},
   "outputs": [],
   "source": [
    "def draw_event(iev):\n",
    "    pt_0 = data_mlpf[\"particleFlow\"][\"pt\"][iev]\n",
    "    energy_0 = data_mlpf[\"particleFlow\"][\"energy\"][iev]\n",
    "    eta_0 = data_mlpf[\"particleFlow\"][\"eta\"][iev]\n",
    "    phi_0 = data_mlpf[\"particleFlow\"][\"phi\"][iev]\n",
    "    pdgid_0 = np.abs(data_mlpf[\"particleFlow\"][\"pdgId\"][iev])\n",
    "    \n",
    "    pt_1 = data_baseline[\"particleFlow\"][\"pt\"][iev]\n",
    "    energy_1 = data_baseline[\"particleFlow\"][\"energy\"][iev]\n",
    "    eta_1 = data_baseline[\"particleFlow\"][\"eta\"][iev]\n",
    "    phi_1 = data_baseline[\"particleFlow\"][\"phi\"][iev]\n",
    "    pdgid_1 = np.abs(data_baseline[\"particleFlow\"][\"pdgId\"][iev])\n",
    "    \n",
    "    plt.figure(figsize=(5, 5))\n",
    "    plt.scatter(eta_0, phi_0, marker=\".\", s=energy_0, c=[color_map[p] for p in pdgid_0], alpha=0.6)\n",
    "    # plt.scatter(\n",
    "    #     data_mlpf[\"ak4PFJetsCHS\"][\"eta\"][iev],\n",
    "    #     data_mlpf[\"ak4PFJetsCHS\"][\"phi\"][iev],\n",
    "    #     s=data_mlpf[\"ak4PFJetsCHS\"][\"energy\"][iev], color=\"gray\", alpha=0.3\n",
    "    # )\n",
    "    cms_label()\n",
    "    sample_label(ax)\n",
    "    plt.xlim(-6,6)\n",
    "    plt.ylim(-4,4)\n",
    "    plt.xlabel(\"PFCandidate $\\eta$\")\n",
    "    plt.ylabel(\"PFCandidate $\\phi$\")\n",
    "    plt.title(\"MLPF (trained on PF)\", y=1.05)\n",
    "    plt.savefig(\"event_mlpf_{}_iev{}.pdf\".format(physics_process, iev), bbox_inches=\"tight\")\n",
    "    \n",
    "    plt.figure(figsize=(5, 5))\n",
    "    plt.scatter(eta_1, phi_1, marker=\".\", s=energy_1, c=[color_map[p] for p in pdgid_1], alpha=0.6)\n",
    "    # plt.scatter(\n",
    "    #     data_baseline[\"ak4PFJetsCHS\"][\"eta\"][iev],\n",
    "    #     data_baseline[\"ak4PFJetsCHS\"][\"phi\"][iev],\n",
    "    #     s=data_baseline[\"ak4PFJetsCHS\"][\"energy\"][iev], color=\"gray\", alpha=0.3\n",
    "    # )\n",
    "    cms_label()\n",
    "    sample_label(ax)\n",
    "    plt.xlim(-6,6)\n",
    "    plt.ylim(-4,4)\n",
    "    plt.xlabel(\"PFCandidate $\\eta$\")\n",
    "    plt.ylabel(\"PFCandidate $\\phi$\")\n",
    "    plt.title(\"Standard PF\", y=1.05)\n",
    "    plt.savefig(\"event_pf_{}_iev{}.pdf\".format(physics_process, iev), bbox_inches=\"tight\")"
   ]
  },
  {
   "cell_type": "code",
   "execution_count": null,
   "id": "comfortable-albert",
   "metadata": {},
   "outputs": [],
   "source": [
    "draw_event(0)"
   ]
  },
  {
   "cell_type": "code",
   "execution_count": null,
   "id": "accompanied-wichita",
   "metadata": {},
   "outputs": [],
   "source": [
    "draw_event(1)"
   ]
  },
  {
   "cell_type": "code",
   "execution_count": null,
   "id": "curious-lover",
   "metadata": {},
   "outputs": [],
   "source": [
    "draw_event(2)"
   ]
  }
 ],
 "metadata": {
  "kernelspec": {
   "display_name": "Python 3",
   "language": "python",
   "name": "python3"
  },
  "language_info": {
   "codemirror_mode": {
    "name": "ipython",
    "version": 3
   },
   "file_extension": ".py",
   "mimetype": "text/x-python",
   "name": "python",
   "nbconvert_exporter": "python",
   "pygments_lexer": "ipython3",
   "version": "3.8.5"
  }
 },
 "nbformat": 4,
 "nbformat_minor": 5
}
