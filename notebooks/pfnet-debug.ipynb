{
 "cells": [
  {
   "cell_type": "code",
   "execution_count": null,
   "id": "solved-relations",
   "metadata": {},
   "outputs": [],
   "source": [
    "import tensorflow as tf\n",
    "import numpy as np\n",
    "import sys\n",
    "sys.path.append(\"/home/joosep/particleflow/mlpf\")\n",
    "import tfmodel.model\n",
    "import tfmodel.data\n",
    "import tfmodel.model_setup\n",
    "\n",
    "import yaml\n",
    "import matplotlib.pyplot as plt\n",
    "import matplotlib \n",
    "import os\n",
    "os.chdir(\"/home/joosep/particleflow\")\n",
    "\n",
    "import pandas\n",
    "import networkx\n",
    "import glob\n",
    "\n",
    "from matplotlib import cm"
   ]
  },
  {
   "cell_type": "code",
   "execution_count": null,
   "id": "unavailable-applicant",
   "metadata": {},
   "outputs": [],
   "source": [
    "with open(\"/home/joosep/particleflow/parameters/cms.yaml\") as f:\n",
    "    config = yaml.load(f)\n",
    "config[\"setup\"][\"multi_output\"] = True\n",
    "config[\"parameters\"][\"debug\"] = True"
   ]
  },
  {
   "cell_type": "code",
   "execution_count": null,
   "id": "becoming-district",
   "metadata": {},
   "outputs": [],
   "source": [
    "model = tfmodel.model_setup.make_gnn_dense(config, tf.float32)"
   ]
  },
  {
   "cell_type": "code",
   "execution_count": null,
   "id": "exact-landing",
   "metadata": {},
   "outputs": [],
   "source": [
    "cds = config[\"dataset\"]\n",
    "\n",
    "dataset_def = tfmodel.data.Dataset(\n",
    "    num_input_features=int(cds[\"num_input_features\"]),\n",
    "    num_output_features=int(cds[\"num_output_features\"]),\n",
    "    padded_num_elem_size=6400,\n",
    "    raw_path=cds.get(\"raw_path\", None),\n",
    "    raw_files=cds.get(\"raw_files\", None),\n",
    "    processed_path=cds[\"processed_path\"],\n",
    "    validation_file_path=\"data/TTbar_14TeV_TuneCUETP8M1_cfi/val/pfntuple_*.pkl.bz2\",\n",
    "    schema=cds[\"schema\"]\n",
    ")\n",
    "\n",
    "dataset_transform = tfmodel.model_setup.targets_multi_output(config['dataset']['num_output_classes'])"
   ]
  },
  {
   "cell_type": "code",
   "execution_count": null,
   "id": "identified-header",
   "metadata": {},
   "outputs": [],
   "source": [
    "Xs = []\n",
    "ygens = []\n",
    "ycands = []\n",
    "\n",
    "for fi in dataset_def.val_filelist[:2]:\n",
    "    print(fi)\n",
    "    X, ygen, ycand = dataset_def.prepare_data(fi)\n",
    "\n",
    "    Xs.append(np.concatenate(X))\n",
    "    ygens.append(np.concatenate(ygen))\n",
    "    ycands.append(np.concatenate(ycand))\n",
    "\n",
    "X_val = np.concatenate(Xs)\n",
    "ygen_val = np.concatenate(ygens)\n",
    "ycand_val = np.concatenate(ycands)\n",
    "\n",
    "X_val, ycand_val, _ = dataset_transform(X_val, ycand_val, None)\n",
    "X_val, ygen_val, _ = dataset_transform(X_val, ygen_val, None)\n"
   ]
  },
  {
   "cell_type": "code",
   "execution_count": null,
   "id": "reduced-collar",
   "metadata": {},
   "outputs": [],
   "source": []
  },
  {
   "cell_type": "code",
   "execution_count": null,
   "id": "expensive-incidence",
   "metadata": {},
   "outputs": [],
   "source": [
    "np.std(ycand_val[\"energy\"][np.argmax(ycand_val[\"cls\"], axis=-1)==2].numpy().flatten())"
   ]
  },
  {
   "cell_type": "code",
   "execution_count": null,
   "id": "painful-delight",
   "metadata": {},
   "outputs": [],
   "source": [
    "plt.hist((ycand_val[\"energy\"][np.argmax(ycand_val[\"cls\"], axis=-1)==2].numpy().flatten()-1/59)/1.3, bins=100);"
   ]
  },
  {
   "cell_type": "code",
   "execution_count": null,
   "id": "collective-mounting",
   "metadata": {},
   "outputs": [],
   "source": [
    "ret = model(X_val[:1])\n",
    "#model.set_trainable_classification()\n",
    "model.load_weights(\"/home/joosep/particleflow/experiments/cms_20210828_144012_433706.joosep-desktop//weights/weights-03-28.697701.hdf5\")\n",
    "ret = model.predict(X_val, batch_size=1, verbose=1)"
   ]
  },
  {
   "cell_type": "code",
   "execution_count": null,
   "id": "western-petersburg",
   "metadata": {},
   "outputs": [],
   "source": [
    "def get_bin_index(bs):\n",
    "    bin_index = []\n",
    "\n",
    "    for ielem in range(6400):\n",
    "        if X_val[0, ielem, 0] != 0:\n",
    "            for ibin in range(bs.shape[0]):\n",
    "                if ielem in bs[ibin]:\n",
    "                    bin_index.append(ibin)\n",
    "                    break\n",
    "        else:\n",
    "            break\n",
    "    return bin_index"
   ]
  },
  {
   "cell_type": "code",
   "execution_count": null,
   "id": "possible-prime",
   "metadata": {},
   "outputs": [],
   "source": [
    "def plot_binning_in_layer(layer_name):\n",
    "    msk = X_val[0][:, 0] != 0\n",
    "    eta = X_val[0][msk, 2]\n",
    "    phi = X_val[0][msk, 3]\n",
    "    typ = X_val[0][msk, 0]\n",
    "    energy = X_val[0][msk, 4]\n",
    "\n",
    "    evenly_spaced_interval = np.linspace(0, 1, ret[layer_name][\"bins\"].shape[1])\n",
    "    colorlist = [cm.Dark2(x) for x in evenly_spaced_interval]\n",
    "    bin_idx = get_bin_index(ret[layer_name][\"bins\"][0])\n",
    "\n",
    "    plt.figure(figsize=(4,4))\n",
    "    plt.scatter(eta, phi, c=[colorlist[bi] for bi in bin_idx], marker=\".\", s=energy)\n",
    "    plt.xlabel(\"eta\")\n",
    "    plt.ylabel(\"phi\")\n",
    "    plt.title(\"Binning in {}\".format(layer_name))\n",
    "    plt.savefig(\"bins_{}.pdf\".format(layer_name))"
   ]
  },
  {
   "cell_type": "code",
   "execution_count": null,
   "id": "listed-quarterly",
   "metadata": {},
   "outputs": [],
   "source": [
    "plot_binning_in_layer(\"cg_0\")"
   ]
  },
  {
   "cell_type": "code",
   "execution_count": null,
   "id": "convenient-winner",
   "metadata": {},
   "outputs": [],
   "source": [
    "plot_binning_in_layer(\"cg_1\")"
   ]
  },
  {
   "cell_type": "code",
   "execution_count": null,
   "id": "cardiac-regression",
   "metadata": {},
   "outputs": [],
   "source": [
    "plot_binning_in_layer(\"cg_2\")"
   ]
  },
  {
   "cell_type": "code",
   "execution_count": null,
   "id": "religious-rendering",
   "metadata": {},
   "outputs": [],
   "source": [
    "plot_binning_in_layer(\"cg_energy_0\")"
   ]
  },
  {
   "cell_type": "code",
   "execution_count": null,
   "id": "weekly-penetration",
   "metadata": {},
   "outputs": [],
   "source": [
    "plot_binning_in_layer(\"cg_energy_1\")"
   ]
  },
  {
   "cell_type": "code",
   "execution_count": null,
   "id": "upper-rapid",
   "metadata": {},
   "outputs": [],
   "source": [
    "plot_binning_in_layer(\"cg_energy_2\")"
   ]
  },
  {
   "cell_type": "code",
   "execution_count": null,
   "id": "superior-waterproof",
   "metadata": {},
   "outputs": [],
   "source": [
    "def plot_dms(dms):\n",
    "    fig = plt.figure(figsize=(4*4, 3*4))\n",
    "    for i in range(len(dms)):\n",
    "        ax = plt.subplot(4,4,i+1)\n",
    "        plt.axes(ax)\n",
    "        plt.imshow(dms[i], interpolation=\"none\", norm=matplotlib.colors.Normalize(vmin=0, vmax=1), cmap=\"Blues\")\n",
    "        plt.colorbar()\n",
    "        plt.title(\"bin {}\".format(i))\n",
    "        #plt.xlabel(\"elem index $i$\")\n",
    "        #plt.ylabel(\"elem index $j$\")\n",
    "    plt.tight_layout()"
   ]
  },
  {
   "cell_type": "code",
   "execution_count": null,
   "id": "harmful-ultimate",
   "metadata": {},
   "outputs": [],
   "source": [
    "for layer in ['cg_0', 'cg_1', 'cg_2']:\n",
    "    dm_vals = ret[layer]['dm'].flatten()\n",
    "    plt.hist(dm_vals[dm_vals!=0], bins=np.linspace(0,1,100), density=True, alpha=0.8, lw=2)"
   ]
  },
  {
   "cell_type": "code",
   "execution_count": null,
   "id": "streaming-license",
   "metadata": {},
   "outputs": [],
   "source": [
    "for layer in ['cg_energy_0', 'cg_energy_1', 'cg_energy_2']:\n",
    "    dm_vals = ret[layer]['dm'].flatten()\n",
    "    plt.hist(dm_vals[dm_vals!=0], bins=np.linspace(0,1,100), density=True, alpha=0.8, lw=2)"
   ]
  },
  {
   "cell_type": "code",
   "execution_count": null,
   "id": "celtic-techno",
   "metadata": {},
   "outputs": [],
   "source": [
    "dmn = ret['cg_0']['dm'][0, :, :, :, 0]\n",
    "plot_dms(dmn)\n",
    "plt.suptitle(\"Learned adjacency, cg_0\", y=1.01)\n",
    "plt.savefig(\"dm_cg_0.pdf\")"
   ]
  },
  {
   "cell_type": "code",
   "execution_count": null,
   "id": "silent-medium",
   "metadata": {},
   "outputs": [],
   "source": [
    "dmn = ret['cg_1']['dm'][0, :, :, :, 0]\n",
    "plot_dms(dmn)\n",
    "plt.suptitle(\"Learned adjacency, cg_1\", y=1.01)\n",
    "plt.savefig(\"dm_cg_1.pdf\")"
   ]
  },
  {
   "cell_type": "code",
   "execution_count": null,
   "id": "prostate-spider",
   "metadata": {},
   "outputs": [],
   "source": [
    "dmn = ret['cg_2']['dm'][0, :, :, :, 0]\n",
    "plot_dms(dmn)\n",
    "plt.suptitle(\"Learned adjacency, cg_2\", y=1.01)\n",
    "plt.savefig(\"dm_cg_2.pdf\")"
   ]
  },
  {
   "cell_type": "code",
   "execution_count": null,
   "id": "certified-enforcement",
   "metadata": {},
   "outputs": [],
   "source": [
    "dmn = ret['cg_energy_0']['dm'][0, :, :, :, 0]\n",
    "plot_dms(dmn)\n",
    "plt.suptitle(\"Learned adjacency, cg_energy_0\", y=1.01)\n",
    "plt.savefig(\"dm_cg_energy_0.pdf\")"
   ]
  },
  {
   "cell_type": "code",
   "execution_count": null,
   "id": "portuguese-automation",
   "metadata": {},
   "outputs": [],
   "source": [
    "dmn = ret['cg_energy_1']['dm'][0, :, :, :, 0]\n",
    "plot_dms(dmn)\n",
    "plt.suptitle(\"Learned adjacency, cg_energy_1\", y=1.01)\n",
    "plt.savefig(\"dm_cg_energy_1.pdf\")"
   ]
  },
  {
   "cell_type": "code",
   "execution_count": null,
   "id": "superb-explorer",
   "metadata": {},
   "outputs": [],
   "source": [
    "dmn = ret['cg_energy_2']['dm'][0, :, :, :, 0]\n",
    "plot_dms(dmn)\n",
    "plt.suptitle(\"Learned adjacency, cg_energy_2\", y=1.01)\n",
    "plt.savefig(\"dm_cg_energy_2.pdf\")"
   ]
  },
  {
   "cell_type": "code",
   "execution_count": null,
   "id": "organized-unemployment",
   "metadata": {},
   "outputs": [],
   "source": [
    "msk = X_val[0][:, 0]!=0\n",
    "sel = ret['dec_output'][0][msk]"
   ]
  },
  {
   "cell_type": "code",
   "execution_count": null,
   "id": "competitive-flashing",
   "metadata": {},
   "outputs": [],
   "source": [
    "plt.scatter(sel[:, 40], sel[:, 60], marker=\".\")"
   ]
  },
  {
   "cell_type": "code",
   "execution_count": null,
   "id": "maritime-beaver",
   "metadata": {},
   "outputs": [],
   "source": [
    "np.array(X_val[:1, :, 0]!=0, np.float32)"
   ]
  },
  {
   "cell_type": "code",
   "execution_count": null,
   "id": "acting-combat",
   "metadata": {},
   "outputs": [],
   "source": [
    "ret['dec_output_energy'].shape"
   ]
  },
  {
   "cell_type": "code",
   "execution_count": null,
   "id": "governmental-height",
   "metadata": {},
   "outputs": [],
   "source": [
    "pred_debug1 = model.output_dec([\n",
    "    X_val,\n",
    "    ret['dec_output'],\n",
    "    ret['dec_output_energy'],\n",
    "    np.array(X_val[:, :, 0:1]!=0, np.float32)],\n",
    "    training=False\n",
    ")"
   ]
  },
  {
   "cell_type": "code",
   "execution_count": null,
   "id": "worse-album",
   "metadata": {},
   "outputs": [],
   "source": [
    "true_id = np.argmax(ycand_val[\"cls\"], axis=-1)\n",
    "pred_id1 = np.argmax(pred_debug1[\"cls\"], axis=-1)"
   ]
  },
  {
   "cell_type": "code",
   "execution_count": null,
   "id": "combined-convention",
   "metadata": {},
   "outputs": [],
   "source": [
    "plt.figure(figsize=(4,4))\n",
    "msk1 = (X_val[:, :, 0]!=0) & (true_id==2)\n",
    "plt.scatter(\n",
    "    pred_debug1[\"energy\"][msk1][:, 0].numpy(),\n",
    "    ycand_val[\"energy\"][msk1][:, 0].numpy(),\n",
    "    marker=\".\", alpha=0.4\n",
    ")\n",
    "\n",
    "#plt.plot([-1,1], [-1,1], color=\"black\")\n",
    "\n",
    "plt.plot([0,6], [0,6], color=\"black\")"
   ]
  },
  {
   "cell_type": "code",
   "execution_count": null,
   "id": "caroline-afghanistan",
   "metadata": {},
   "outputs": [],
   "source": [
    "model.cg[0].trainable = False\n",
    "model.cg[1].trainable = False\n",
    "model.cg[2].trainable = False\n",
    "\n",
    "# model.cg_energy[0].trainable = False\n",
    "# model.cg_energy[1].trainable = False\n",
    "# model.cg_energy[2].trainable = False\n",
    "\n",
    "model.output_dec.ffn_id.trainable = False\n",
    "model.output_dec.ffn_charge.trainable = False\n",
    "model.output_dec.ffn_phi.trainable = False\n",
    "model.output_dec.ffn_eta.trainable = False\n",
    "model.output_dec.ffn_pt.trainable = False\n",
    "model.output_dec.ffn_energy.trainable = True\n",
    "\n",
    "model.output_dec.layernorm.trainable = False"
   ]
  },
  {
   "cell_type": "code",
   "execution_count": null,
   "id": "later-hudson",
   "metadata": {},
   "outputs": [],
   "source": [
    "[w.name for w in model.trainable_weights]"
   ]
  },
  {
   "cell_type": "code",
   "execution_count": null,
   "id": "contemporary-peeing",
   "metadata": {},
   "outputs": [],
   "source": [
    "class_weights = tf.constant([0.0, 0.01, 2.0, 1.0, 1.0, 1.0, 1.0, 1.0])"
   ]
  },
  {
   "cell_type": "code",
   "execution_count": null,
   "id": "scheduled-proposal",
   "metadata": {},
   "outputs": [],
   "source": [
    "loss = tf.keras.losses.Huber()\n",
    "optimizer = tf.keras.optimizers.Adam(lr=1e-4)\n",
    "for epoch in range(100):\n",
    "    with tf.GradientTape() as tape:\n",
    "        y_pred = model(X_val[:2], training=True)\n",
    "        pred_cls = tf.argmax(y_pred[\"cls\"], axis=-1)\n",
    "        true_cls = tf.argmax(ycand_val[\"cls\"][:2], axis=-1)\n",
    "        msk_loss = tf.expand_dims(tf.cast((pred_cls==true_cls) & (true_cls!=0), tf.float32), axis=-1)\n",
    "        sample_weights = tf.keras.activations.softmax(ycand_val[\"cls\"][:2]*100)*class_weights\n",
    "        sample_weights = tf.reduce_sum(class_weights, axis=-1, keepdims=True)\n",
    "        loss_val = loss(ycand_val[\"energy\"][:2]*msk_loss, y_pred[\"energy\"][:2]*msk_loss, sample_weight=sample_weights)\n",
    "        print(loss_val)\n",
    "    trainable_vars = model.trainable_variables\n",
    "    gradients = tape.gradient(loss_val, trainable_vars)\n",
    "    optimizer.apply_gradients(zip(gradients, trainable_vars))\n"
   ]
  },
  {
   "cell_type": "code",
   "execution_count": null,
   "id": "acoustic-opening",
   "metadata": {},
   "outputs": [],
   "source": [
    "y_pred = model(X_val[2:6], training=False)\n",
    "\n",
    "true_id = tf.argmax(ycand_val[\"cls\"][2:6], axis=-1)\n",
    "pred_id = tf.argmax(y_pred[\"cls\"], axis=-1)"
   ]
  },
  {
   "cell_type": "code",
   "execution_count": null,
   "id": "accompanied-musical",
   "metadata": {},
   "outputs": [],
   "source": [
    "sklearn.metrics.confusion_matrix(true_id.numpy().flatten(), pred_id.numpy().flatten())"
   ]
  },
  {
   "cell_type": "code",
   "execution_count": null,
   "id": "ahead-literature",
   "metadata": {},
   "outputs": [],
   "source": [
    "plt.figure(figsize=(4,4))\n",
    "cls = 3\n",
    "print(np.sum((true_id==cls) & (pred_id==cls)))\n",
    "plt.scatter(\n",
    "    y_pred[\"energy\"][(true_id==cls) & (pred_id==cls)],\n",
    "    ycand_val[\"energy\"][2:6][(true_id==cls) & (pred_id==cls)],\n",
    "    marker=\".\"\n",
    ")\n",
    "plt.plot([0,6], [0,6], color=\"black\")\n",
    "plt.xlim(0,6)\n",
    "plt.ylim(0,6)"
   ]
  },
  {
   "cell_type": "code",
   "execution_count": null,
   "id": "progressive-auckland",
   "metadata": {},
   "outputs": [],
   "source": [
    "vals = y_pred[\"energy\"][(true_id!=0)] - ycand_val[\"energy\"][2:6][(true_id!=0)]"
   ]
  },
  {
   "cell_type": "code",
   "execution_count": null,
   "id": "lesser-grant",
   "metadata": {},
   "outputs": [],
   "source": [
    "plt.hist(vals.numpy().flatten(), bins=np.linspace(-2,2,100));\n",
    "plt.yscale(\"log\")"
   ]
  },
  {
   "cell_type": "code",
   "execution_count": null,
   "id": "deluxe-twenty",
   "metadata": {},
   "outputs": [],
   "source": []
  }
 ],
 "metadata": {
  "kernelspec": {
   "display_name": "Python 3",
   "language": "python",
   "name": "python3"
  },
  "language_info": {
   "codemirror_mode": {
    "name": "ipython",
    "version": 3
   },
   "file_extension": ".py",
   "mimetype": "text/x-python",
   "name": "python",
   "nbconvert_exporter": "python",
   "pygments_lexer": "ipython3",
   "version": "3.8.5"
  }
 },
 "nbformat": 4,
 "nbformat_minor": 5
}
