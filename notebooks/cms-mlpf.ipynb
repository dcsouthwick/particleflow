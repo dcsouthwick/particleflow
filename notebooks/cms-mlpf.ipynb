{
 "cells": [
  {
   "cell_type": "code",
   "execution_count": null,
   "id": "impressive-ethiopia",
   "metadata": {},
   "outputs": [],
   "source": [
    "import pandas as pd\n",
    "import json\n",
    "import glob\n",
    "import matplotlib.pyplot as plt\n",
    "import numpy as np\n",
    "\n",
    "import sklearn\n",
    "import sklearn.metrics\n",
    "import matplotlib\n",
    "import scipy\n",
    "import mplhep\n",
    "\n",
    "import pandas"
   ]
  },
  {
   "cell_type": "code",
   "execution_count": null,
   "id": "statistical-ordering",
   "metadata": {},
   "outputs": [],
   "source": [
    "def flatten(arr):\n",
    "    return arr.reshape((arr.shape[0]*arr.shape[1], arr.shape[2]))"
   ]
  },
  {
   "cell_type": "code",
   "execution_count": null,
   "id": "visible-destruction",
   "metadata": {},
   "outputs": [],
   "source": [
    "def cms_label(x0=0.12, x1=0.23, x2=0.67, y=0.90):\n",
    "    plt.figtext(x0, y,'CMS',fontweight='bold', wrap=True, horizontalalignment='left', fontsize=12)\n",
    "    plt.figtext(x1, y,'Simulation Preliminary', style='italic', wrap=True, horizontalalignment='left', fontsize=10)\n",
    "    plt.figtext(x2, y,'Run 3 (14 TeV), $\\mathrm{t}\\overline{\\mathrm{t}}$ events',  wrap=False, horizontalalignment='left', fontsize=10)\n",
    "\n",
    "def sample_label(ax, x=0.03, y=0.98):\n",
    "    plt.text(x, y, \"$\\mathrm{t}\\overline{\\mathrm{t}}$ events\", va=\"top\", ha=\"left\", size=10, transform=ax.transAxes)\n"
   ]
  },
  {
   "cell_type": "code",
   "execution_count": null,
   "id": "undefined-judges",
   "metadata": {},
   "outputs": [],
   "source": [
    "def apply_thresholds_f(ypred_raw_f, thresholds):\n",
    "    msk = np.ones_like(ypred_raw_f)\n",
    "    for i in range(len(thresholds)):\n",
    "        msk[:, i+1] = ypred_raw_f[:, i+1]>thresholds[i]\n",
    "    ypred_id_f = np.argmax(ypred_raw_f*msk, axis=-1)\n",
    "    \n",
    "#     best_2 = np.partition(ypred_raw_f, -2, axis=-1)[..., -2:]\n",
    "#     diff = np.abs(best_2[:, -1] - best_2[:, -2])\n",
    "#     ypred_id_f[diff<0.05] = 0\n",
    "    \n",
    "    return ypred_id_f\n",
    "\n",
    "def apply_thresholds(ypred_raw, thresholds):\n",
    "    msk = np.ones_like(ypred_raw)\n",
    "    for i in range(len(thresholds)):\n",
    "        msk[:, :, i+1] = ypred_raw[:, :, i+1]>thresholds[i]\n",
    "    ypred_id = np.argmax(ypred_raw*msk, axis=-1)\n",
    "    \n",
    "#     best_2 = np.partition(ypred_raw, -2, axis=-1)[..., -2:]\n",
    "#     diff = np.abs(best_2[:, :, -1] - best_2[:, :, -2])\n",
    "#     ypred_id[diff<0.05] = 0\n",
    "    \n",
    "    return ypred_id"
   ]
  },
  {
   "cell_type": "code",
   "execution_count": null,
   "id": "respective-theater",
   "metadata": {},
   "outputs": [],
   "source": [
    "pid_names = {\n",
    "    0: \"no ptcl\",\n",
    "    1: \"ch.had\",\n",
    "    2: \"n.had\",\n",
    "    3: \"HFEM\",\n",
    "    4: \"HFHAD\",\n",
    "    5: \"g\",\n",
    "    6: \"el\",\n",
    "    7: \"mu\"\n",
    "}\n",
    "\n",
    "pid_names_long = {\n",
    "    0: \"no particle\",\n",
    "    1: \"charged hadrons\",\n",
    "    2: \"neutral hadrons\",\n",
    "    3: \"HFEM\",\n",
    "    4: \"HFHAD\",\n",
    "    5: \"photons\",\n",
    "    6: \"electrons\",\n",
    "    7: \"muons\"\n",
    "}\n",
    "\n",
    "var_names = {\n",
    "    1: \"charge\",\n",
    "    2: \"pt\",\n",
    "    3: \"eta\",\n",
    "    4: \"sin phi\",\n",
    "    5: \"cos phi\",\n",
    "    6: \"energy\"\n",
    "}\n",
    "\n",
    "x_labels = [\n",
    "    \"track\", \"PS1\", \"PS2\", \"ECAL\", \"HCAL\", \"GSF\", \"BREM\", \"HFEM\", \"HFHAD\", \"SC\", \"HO\"\n",
    "]\n",
    "y_labels = [pid_names[i] for i in range(0,8)]"
   ]
  },
  {
   "cell_type": "code",
   "execution_count": null,
   "id": "stone-spanking",
   "metadata": {},
   "outputs": [],
   "source": [
    "#path = \"../experiments/cms-dev_20210831_225815_541048.gpu0.local/evaluation/\"\n",
    "path = \"../experiments/cms-gen_20210903_114315_805349.joosep-desktop-work/evaluation/\""
   ]
  },
  {
   "cell_type": "code",
   "execution_count": null,
   "id": "blind-promotion",
   "metadata": {},
   "outputs": [],
   "source": [
    "Xs = []\n",
    "ygens = []\n",
    "ycands = []\n",
    "ypreds = []\n",
    "ypreds_raw = []\n",
    "for fi in glob.glob(path + \"/pred_batch*.npz\"):\n",
    "    dd = np.load(fi)\n",
    "    Xs.append(dd[\"X\"])\n",
    "    ygens.append(dd[\"ygen\"])\n",
    "    ycands.append(dd[\"ycand\"])\n",
    "    ypreds.append(dd[\"ypred\"])\n",
    "    ypreds_raw.append(dd[\"ypred_raw\"])\n",
    "\n",
    "X = np.concatenate(Xs)\n",
    "msk_X = X[:, :, 0]!=0\n",
    "\n",
    "ygen = np.concatenate(ygens)\n",
    "ycand = np.concatenate(ycands)\n",
    "ypred = np.concatenate(ypreds)\n",
    "\n",
    "ypred_raw = np.concatenate(ypreds_raw)\n",
    "\n",
    "X_f = X.reshape((X.shape[0]*X.shape[1], X.shape[2]))\n",
    "msk_X_f = X_f[:, 0]!=0\n",
    "ygen_f = ygen.reshape((ygen.shape[0]*ygen.shape[1], ygen.shape[2]))\n",
    "ycand_f = ycand.reshape((ycand.shape[0]*ycand.shape[1], ycand.shape[2]))\n",
    "ypred_f = ypred.reshape((ypred.shape[0]*ypred.shape[1], ypred.shape[2]))\n",
    "\n",
    "# ypred_raw[X[:, :, 0]==1, 6] = 0.0\n",
    "\n",
    "# ypred_raw[X[:, :, 0]==4, 1] = 0.0\n",
    "# #ypred_raw[X[:, :, 0]==4, 6] = 0.0\n",
    "\n",
    "# ypred_raw[X[:, :, 0]==5, 0] += ypred_raw[X[:, :, 0]==5, 1]\n",
    "# ypred_raw[X[:, :, 0]==5, 0] += ypred_raw[X[:, :, 0]==5, 7]\n",
    "# ypred_raw[X[:, :, 0]==5, 1] = 0.0\n",
    "# ypred_raw[X[:, :, 0]==5, 7] = 0.0\n",
    "\n",
    "# ypred_raw[X[:, :, 0]==8, 3] += ypred_raw[X[:, :, 0]==8, 1]\n",
    "# ypred_raw[X[:, :, 0]==8, 3] += ypred_raw[X[:, :, 0]==8, 2]\n",
    "# ypred_raw[X[:, :, 0]==8, 1] = 0.0\n",
    "# ypred_raw[X[:, :, 0]==8, 2] = 0.0\n",
    "\n",
    "\n",
    "# ypred_raw[X[:, :, 0]==9, 3] += ypred_raw[X[:, :, 0]==9, 1]\n",
    "# ypred_raw[X[:, :, 0]==9, 3] += ypred_raw[X[:, :, 0]==9, 2]\n",
    "# ypred_raw[X[:, :, 0]==9, 1] = 0.0\n",
    "# ypred_raw[X[:, :, 0]==9, 2] = 0.0\n",
    "# ypred_raw[X[:, :, 0]==9, 1] = 0.0\n",
    "\n",
    "# ypred_raw[X[:, :, 0]==8, 2] = 0.0\n",
    "# ypred_raw[X[:, :, 0]==9, 2] = 0.0\n",
    "\n",
    "ypred_raw_f = ypred_raw.reshape((ypred_raw.shape[0]*ypred_raw.shape[1], ypred_raw.shape[2]))\n",
    "\n",
    "ypred_id = np.argmax(ypred_raw, axis=-1)\n",
    "ypred_id_f = ypred_id.flatten()"
   ]
  },
  {
   "cell_type": "code",
   "execution_count": null,
   "id": "extensive-kuwait",
   "metadata": {},
   "outputs": [],
   "source": [
    "thresholds = [0.0, 0.0, 0.0, 0, 0, 0, 0]\n",
    "ypred_id = apply_thresholds(ypred_raw, thresholds)\n",
    "ypred_id_f = apply_thresholds_f(ypred_raw_f, thresholds)"
   ]
  },
  {
   "cell_type": "code",
   "execution_count": null,
   "id": "interim-chosen",
   "metadata": {},
   "outputs": [],
   "source": [
    "icls = 2\n",
    "ielem = 5\n",
    "\n",
    "energy_msk = (X_f[:, 4]>0)\n",
    "elem_msk = (X_f[:, 0]==ielem)\n",
    "\n",
    "vals_sig = ypred_raw_f[energy_msk & elem_msk & (ycand_f[:, 0]==icls), icls]\n",
    "vals_bkg = ypred_raw_f[energy_msk & elem_msk & (ycand_f[:, 0]!=icls), icls]\n",
    "\n",
    "bins = np.linspace(0,1,100)\n",
    "hsig = np.histogram(vals_sig, bins=bins)[0]\n",
    "hbkg = np.histogram(vals_bkg, bins=bins)[0]\n",
    "\n",
    "a = np.cumsum(hsig)/np.sum(hsig)\n",
    "b = np.cumsum(hbkg)/np.sum(hbkg)\n",
    "\n",
    "plt.figure(figsize=(4,4))\n",
    "plt.plot(a, b, marker=\".\")\n",
    "plt.plot([0,1], [0,1], color=\"black\", lw=0.5, ls=\"--\")"
   ]
  },
  {
   "cell_type": "code",
   "execution_count": null,
   "id": "becoming-application",
   "metadata": {},
   "outputs": [],
   "source": [
    "b = np.linspace(0,1,100)\n",
    "mplhep.histplot(np.histogram(vals_sig, bins=b, density=1), label=\"sig\");\n",
    "mplhep.histplot(np.histogram(vals_bkg, bins=b, density=1), label=\"bkg\");\n",
    "plt.legend(loc=2)"
   ]
  },
  {
   "cell_type": "code",
   "execution_count": null,
   "id": "virgin-nicaragua",
   "metadata": {
    "scrolled": false
   },
   "outputs": [],
   "source": [
    "for icls in range(1,8):\n",
    "    npred = np.sum(ypred_id == icls, axis=1)\n",
    "    ncand = np.sum(ycand[:, :, 0] == icls, axis=1)\n",
    "    plt.figure(figsize=(6,6))\n",
    "    plt.scatter(ncand, npred, marker=\".\", alpha=0.8)\n",
    "    a = 0.5*min(np.min(npred), np.min(ncand))\n",
    "    b = 1.5*max(np.max(npred), np.max(ncand))\n",
    "    plt.xlim(a,b)\n",
    "    plt.ylim(a,b)\n",
    "    plt.plot([a,b],[a,b], color=\"black\", ls=\"--\")\n",
    "    plt.title(pid_names_long[icls],y=1.05)\n",
    "    plt.xlabel(\"number of PFCandidates\")\n",
    "    plt.ylabel(\"number of MLPFCandidates\")\n",
    "    cms_label(x2=0.6, y=0.89)\n",
    "    plt.savefig(\"num_cls{}.pdf\".format(icls))\n"
   ]
  },
  {
   "cell_type": "code",
   "execution_count": null,
   "id": "funky-destination",
   "metadata": {},
   "outputs": [],
   "source": [
    "energy_bins_classwise = {\n",
    "    1: [-2, 5],\n",
    "    2: [-2, 6],\n",
    "    3: [1, 7],\n",
    "    4: [2, 5],\n",
    "    5: [2, 5],\n",
    "    6: [2, 5],\n",
    "    7: [2, 5],\n",
    "}\n",
    "\n",
    "energy_correction_factors = {\n",
    "    1: [1, 1],\n",
    "    2: [1, 1],\n",
    "    3: [1.0, 1.2],\n",
    "    4: [1, 1],\n",
    "    5: [1, 1],\n",
    "    6: [1, 1],\n",
    "    7: [1, 1],\n",
    "}"
   ]
  },
  {
   "cell_type": "code",
   "execution_count": null,
   "id": "authorized-greensboro",
   "metadata": {},
   "outputs": [],
   "source": [
    "b = np.linspace(0,1,101)\n",
    "plt.figure(figsize=(4,4))\n",
    "plt.hist(ypred_raw_f[(X_f[:, 0]==1) & (ycand_f[:, 0]==0), 1], bins=b, histtype=\"step\", lw=2, label=\"no PFCandidate\", density=True);\n",
    "plt.hist(ypred_raw_f[(X_f[:, 0]==1) & (ycand_f[:, 0]==1), 1], bins=b, histtype=\"step\", lw=2, label=\"charged PFCandidate\", density=True);\n",
    "plt.legend(loc=2, frameon=False)\n",
    "plt.xlabel(\"Charged hadron probability\")\n",
    "plt.title(\"Tracks\")"
   ]
  },
  {
   "cell_type": "code",
   "execution_count": null,
   "id": "incorporate-vanilla",
   "metadata": {},
   "outputs": [],
   "source": [
    "b = np.linspace(0,1,101)\n",
    "plt.figure(figsize=(4,4))\n",
    "plt.hist(ypred_raw_f[(X_f[:, 0]==1) & (ycand_f[:, 0]==0), 0], bins=b, histtype=\"step\", lw=2, label=\"no PFCandidate\", density=True);\n",
    "plt.hist(ypred_raw_f[(X_f[:, 0]==1) & (ycand_f[:, 0]==1), 0], bins=b, histtype=\"step\", lw=2, label=\"charged PFCandidate\", density=True);\n",
    "plt.legend(loc=1, frameon=False)\n",
    "plt.xlabel(\"No particle probability\")\n",
    "plt.title(\"Tracks\")"
   ]
  },
  {
   "cell_type": "code",
   "execution_count": null,
   "id": "comic-privacy",
   "metadata": {},
   "outputs": [],
   "source": [
    "b = np.linspace(0,1,101)\n",
    "plt.figure(figsize=(4,4))\n",
    "plt.hist(ypred_raw_f[(X_f[:, 0]==5) & (ycand_f[:, 0]==0), 2], bins=b, histtype=\"step\", lw=2, label=\"no PFCandidate\", density=True);\n",
    "plt.hist(ypred_raw_f[(X_f[:, 0]==5) & (ycand_f[:, 0]==2), 2], bins=b, histtype=\"step\", lw=2, label=\"neutral PFCandidate\", density=True);\n",
    "plt.legend(loc=2, frameon=False)\n",
    "plt.xlabel(\"Neutral probability\")\n",
    "plt.title(\"HCAL clusters\")"
   ]
  },
  {
   "cell_type": "code",
   "execution_count": null,
   "id": "sustainable-passage",
   "metadata": {},
   "outputs": [],
   "source": [
    "b = np.linspace(0,1,101)\n",
    "plt.figure(figsize=(4,4))\n",
    "plt.hist(ypred_raw_f[(X_f[:, 0]==5) & (ycand_f[:, 0]==0), 0], bins=b, histtype=\"step\", lw=2, label=\"no PFCandidate\", density=True);\n",
    "plt.hist(ypred_raw_f[(X_f[:, 0]==5) & (ycand_f[:, 0]==2), 0], bins=b, histtype=\"step\", lw=2, label=\"neutral PFCandidate\", density=True);\n",
    "plt.legend(loc=\"best\", frameon=False)\n",
    "plt.xlabel(\"No particle probability\")\n",
    "plt.title(\"HCAL clusters\")"
   ]
  },
  {
   "cell_type": "code",
   "execution_count": null,
   "id": "funny-batch",
   "metadata": {},
   "outputs": [],
   "source": [
    "elem_type = 5\n",
    "icls = 2\n",
    "\n",
    "def plot_elem_energy_cls_prob(elem_type):\n",
    "    plt.figure(figsize=(4*5,2*4))\n",
    "    plt.suptitle(\"PFElement type {}\".format(elem_type))\n",
    "    \n",
    "    for icls in range(8):\n",
    "        plt.subplot(2,4,icls+1)\n",
    "        plt.hist2d(\n",
    "            np.log10(X_f[X_f[:, 0]==elem_type, 4]),\n",
    "            ypred_raw_f[X_f[:, 0]==elem_type, icls],\n",
    "            bins=(np.linspace(-2,4,100), np.linspace(0,1,100)), cmap=\"Blues\");\n",
    "        plt.colorbar()\n",
    "        plt.xlabel(\"PFElement log[E/GeV]\")\n",
    "        plt.ylabel(\"MLPF probability for class {}\".format(icls))\n",
    "    plt.tight_layout()"
   ]
  },
  {
   "cell_type": "code",
   "execution_count": null,
   "id": "strange-combine",
   "metadata": {},
   "outputs": [],
   "source": [
    "plot_elem_energy_cls_prob(1)"
   ]
  },
  {
   "cell_type": "code",
   "execution_count": null,
   "id": "private-communication",
   "metadata": {},
   "outputs": [],
   "source": [
    "plot_elem_energy_cls_prob(4)"
   ]
  },
  {
   "cell_type": "code",
   "execution_count": null,
   "id": "differential-steal",
   "metadata": {},
   "outputs": [],
   "source": [
    "plot_elem_energy_cls_prob(5)"
   ]
  },
  {
   "cell_type": "code",
   "execution_count": null,
   "id": "utility-beverage",
   "metadata": {},
   "outputs": [],
   "source": [
    "plot_elem_energy_cls_prob(8)"
   ]
  },
  {
   "cell_type": "code",
   "execution_count": null,
   "id": "moderate-india",
   "metadata": {},
   "outputs": [],
   "source": [
    "plot_elem_energy_cls_prob(9)"
   ]
  },
  {
   "cell_type": "code",
   "execution_count": null,
   "id": "direct-crowd",
   "metadata": {},
   "outputs": [],
   "source": [
    "reco_label = X_f[X_f[:, 0]!=0, 0]\n",
    "cand_label = ycand_f[X_f[:, 0]!=0, 0]\n",
    "pred_label = ypred_id_f[X_f[:, 0]!=0]"
   ]
  },
  {
   "cell_type": "code",
   "execution_count": null,
   "id": "fitting-thriller",
   "metadata": {},
   "outputs": [],
   "source": [
    "cm1 = sklearn.metrics.confusion_matrix(reco_label, cand_label, labels=range(12))\n",
    "cm2 = sklearn.metrics.confusion_matrix(reco_label, pred_label, labels=range(12))"
   ]
  },
  {
   "cell_type": "code",
   "execution_count": null,
   "id": "frozen-ethnic",
   "metadata": {},
   "outputs": [],
   "source": [
    "plt.imshow(cm1, cmap=\"Blues\", norm=matplotlib.colors.LogNorm())\n",
    "plt.xticks(range(12));\n",
    "plt.yticks(range(12));\n",
    "plt.colorbar()"
   ]
  },
  {
   "cell_type": "code",
   "execution_count": null,
   "id": "anticipated-robinson",
   "metadata": {},
   "outputs": [],
   "source": [
    "plt.imshow(cm2, cmap=\"Blues\", norm=matplotlib.colors.LogNorm())\n",
    "plt.xticks(range(12));\n",
    "plt.yticks(range(12));\n",
    "plt.colorbar()"
   ]
  },
  {
   "cell_type": "code",
   "execution_count": null,
   "id": "micro-saying",
   "metadata": {},
   "outputs": [],
   "source": [
    "ycand_id_f = ycand_f[:, 0]\n",
    "\n",
    "b = np.linspace(-3,6,100)\n",
    "\n",
    "icls = 2\n",
    "\n",
    "def plot_eff_and_fake_rate(\n",
    "    icls,\n",
    "    ivar=4,\n",
    "    bins=np.linspace(-3,6,100),\n",
    "    xlabel=\"PFElement log[E/GeV]\", log=True\n",
    "    ):\n",
    "    \n",
    "    values = X_f[:, ivar]\n",
    "    if log:\n",
    "        values = np.log(values)\n",
    "        \n",
    "    hist_cand = np.histogram(values[(ycand_id_f==icls)], bins=bins);\n",
    "    hist_cand_true = np.histogram(values[(ycand_id_f==icls) & (ypred_id_f==icls)], bins=bins);\n",
    "\n",
    "    hist_pred = np.histogram(values[(ypred_id_f==icls)], bins=bins);\n",
    "    hist_pred_fake = np.histogram(values[(ycand_id_f!=icls) & (ypred_id_f==icls)], bins=bins);\n",
    "\n",
    "    eff = hist_cand_true[0]/hist_cand[0]\n",
    "    fake = hist_pred_fake[0]/hist_pred[0]\n",
    "\n",
    "    plt.figure(figsize=(8,8))\n",
    "    ax1 = plt.subplot(2,1,1)\n",
    "    mplhep.histplot(hist_cand, label=\"with PF candidate\")\n",
    "    mplhep.histplot(hist_pred, label=\"with MLPF candidate\")\n",
    "    plt.legend(frameon=False)\n",
    "    plt.xlabel(xlabel)\n",
    "    plt.ylabel(\"Number of particles\")\n",
    "\n",
    "    ax2 = plt.subplot(2,1,2, sharex=ax1)\n",
    "    mplhep.histplot(eff, bins=hist_cand[1], label=\"efficiency\", color=\"black\")\n",
    "    mplhep.histplot(fake, bins=hist_cand[1], label=\"fake rate\", color=\"red\")\n",
    "    plt.legend(frameon=False)\n",
    "    plt.ylim(0,1.4)\n",
    "    plt.xlabel(xlabel)\n",
    "    plt.ylabel(\"Fraction of particles / bin\")\n",
    "    \n",
    "    return ax1, ax2"
   ]
  },
  {
   "cell_type": "code",
   "execution_count": null,
   "id": "inner-christianity",
   "metadata": {},
   "outputs": [],
   "source": [
    "b = np.linspace(0,100, 100)\n",
    "plt.hist(X_f[(X_f[:, 0]==5), 4], bins=b, histtype=\"step\", lw=2, label=\"all clusters\");\n",
    "plt.hist(X_f[(X_f[:, 0]==5) & (ycand_f[:, 0]==2), 4], bins=b, histtype=\"step\", lw=2, label=\"with PF candidate\");\n",
    "plt.hist(X_f[(X_f[:, 0]==5) & (ypred_id_f==2), 4], bins=b, histtype=\"step\", lw=2, label=\"with MLPF candidate\");\n",
    "plt.yscale(\"log\")\n",
    "plt.legend()"
   ]
  },
  {
   "cell_type": "code",
   "execution_count": null,
   "id": "automated-quarter",
   "metadata": {},
   "outputs": [],
   "source": [
    "ax1, ax2 = plot_eff_and_fake_rate(1, bins=np.linspace(0, 300, 100), log=False)\n",
    "ax1.set_yscale(\"log\")\n",
    "ax1.set_title(\"track, charged hadron predictions\")"
   ]
  },
  {
   "cell_type": "code",
   "execution_count": null,
   "id": "military-professor",
   "metadata": {},
   "outputs": [],
   "source": [
    "ax1, ax2 = plot_eff_and_fake_rate(2, bins=np.linspace(0, 300, 100), log=False)\n",
    "ax1.set_yscale(\"log\")\n",
    "ax1.set_title(\"HCAL cluster, neutral hadron predictions\")"
   ]
  },
  {
   "cell_type": "code",
   "execution_count": null,
   "id": "characteristic-colleague",
   "metadata": {},
   "outputs": [],
   "source": [
    "ax1, ax2 = plot_eff_and_fake_rate(3, bins=np.linspace(0, 300, 100), log=False)\n",
    "ax1.set_yscale(\"log\")"
   ]
  },
  {
   "cell_type": "code",
   "execution_count": null,
   "id": "composed-principal",
   "metadata": {},
   "outputs": [],
   "source": [
    "ax1, ax2 = plot_eff_and_fake_rate(4, bins=np.linspace(0, 300, 100), log=False)\n",
    "ax1.set_yscale(\"log\")"
   ]
  },
  {
   "cell_type": "code",
   "execution_count": null,
   "id": "ready-macedonia",
   "metadata": {},
   "outputs": [],
   "source": [
    "def load_history(path, max_epoch=None):\n",
    "    ret = {}\n",
    "    for fi in glob.glob(path):\n",
    "        data = json.load(open(fi))\n",
    "        epoch = int(fi.split(\"_\")[-1].split(\".\")[0])\n",
    "        ret[epoch] = data\n",
    "    \n",
    "    if not max_epoch:\n",
    "        max_epoch = max(ret.keys())\n",
    "    ret2 = []\n",
    "    for i in range(max_epoch):\n",
    "        ret2.append(ret[i])\n",
    "    return pandas.DataFrame(ret2)"
   ]
  },
  {
   "cell_type": "code",
   "execution_count": null,
   "id": "formal-county",
   "metadata": {},
   "outputs": [],
   "source": [
    "history = load_history(path + \"/../history/history_*.json\")"
   ]
  },
  {
   "cell_type": "code",
   "execution_count": null,
   "id": "neural-witch",
   "metadata": {},
   "outputs": [],
   "source": [
    "def loss_plot(train, test, margin=0.05, smoothing=False):\n",
    "    fig = plt.figure(figsize=(8,4))\n",
    "    ax = plt.axes()\n",
    "    \n",
    "    alpha = 0.2 if smoothing else 1.0\n",
    "    l0 = None if smoothing else \"train\"\n",
    "    l1 = None if smoothing else \"test\"\n",
    "    p0 = plt.plot(train, alpha=alpha, label=l0)\n",
    "    p1 = plt.plot(test, alpha=alpha, label=l1)\n",
    "    \n",
    "    if smoothing:\n",
    "        train_smooth = np.convolve(train, np.ones(5)/5, mode='valid')\n",
    "        plt.plot(train_smooth, color=p0[0].get_color(), lw=2, label=\"train\")\n",
    "        test_smooth = np.convolve(test, np.ones(5)/5, mode='valid')\n",
    "        plt.plot(test_smooth, color=p1[0].get_color(), lw=2, label=\"test\")\n",
    "    \n",
    "    plt.ylim(test[-1]*(1.0-margin), test[-1]*(1.0+margin))\n",
    "    plt.legend(loc=\"best\", frameon=False)\n",
    "    plt.xlabel(\"epoch\")\n",
    "    cms_label(x1=0.18)\n",
    "    #sample_label(ax, x=0.03, y=0.10)"
   ]
  },
  {
   "cell_type": "code",
   "execution_count": null,
   "id": "formal-maryland",
   "metadata": {},
   "outputs": [],
   "source": [
    "p0 = loss_plot(history[\"loss\"].values, history[\"val_loss\"].values, margin=0.02)\n",
    "plt.ylabel(\"Total loss\")\n",
    "plt.savefig(\"loss.pdf\", bbox_inches=\"tight\")"
   ]
  },
  {
   "cell_type": "code",
   "execution_count": null,
   "id": "committed-clothing",
   "metadata": {},
   "outputs": [],
   "source": [
    "p0 = loss_plot(history[\"cls_loss\"].values, history[\"val_cls_loss\"].values, margin=0.05)\n",
    "plt.ylabel(\"Multiclassification loss\")\n",
    "plt.savefig(\"cls_loss.pdf\", bbox_inches=\"tight\")"
   ]
  },
  {
   "cell_type": "code",
   "execution_count": null,
   "id": "recreational-enhancement",
   "metadata": {},
   "outputs": [],
   "source": [
    "p0 = loss_plot(history[\"energy_loss\"].values, history[\"val_energy_loss\"].values, margin=0.01)\n",
    "plt.ylabel(\"Energy loss\")\n",
    "plt.savefig(\"energy_loss.pdf\", bbox_inches=\"tight\")"
   ]
  },
  {
   "cell_type": "code",
   "execution_count": null,
   "id": "frank-alberta",
   "metadata": {},
   "outputs": [],
   "source": [
    "p0 = loss_plot(history[\"pt_loss\"].values, history[\"val_pt_loss\"].values, margin=0.02)\n",
    "plt.ylabel(\"$p_T$ loss\")\n",
    "plt.savefig(\"pt_loss.pdf\", bbox_inches=\"tight\")"
   ]
  },
  {
   "cell_type": "code",
   "execution_count": null,
   "id": "significant-breeding",
   "metadata": {},
   "outputs": [],
   "source": [
    "p0 = loss_plot(history[\"sin_phi_loss\"].values, history[\"val_sin_phi_loss\"].values, margin=0.02)\n",
    "plt.ylabel(\"$\\sin \\phi$ loss\")\n",
    "plt.savefig(\"sin_phi_loss.pdf\", bbox_inches=\"tight\")"
   ]
  },
  {
   "cell_type": "code",
   "execution_count": null,
   "id": "living-egyptian",
   "metadata": {},
   "outputs": [],
   "source": [
    "p0 = loss_plot(history[\"cos_phi_loss\"].values, history[\"val_cos_phi_loss\"].values, margin=0.01)\n",
    "plt.ylabel(\"$\\cos \\phi$ loss\")\n",
    "plt.savefig(\"cos_phi_loss.pdf\", bbox_inches=\"tight\")"
   ]
  },
  {
   "cell_type": "code",
   "execution_count": null,
   "id": "healthy-willow",
   "metadata": {},
   "outputs": [],
   "source": [
    "p0 = loss_plot(history[\"eta_loss\"].values, history[\"val_eta_loss\"].values, margin=0.005)\n",
    "plt.ylabel(\"$\\eta$ loss\")\n",
    "plt.savefig(\"eta_loss.pdf\", bbox_inches=\"tight\")"
   ]
  },
  {
   "cell_type": "code",
   "execution_count": null,
   "id": "accomplished-brave",
   "metadata": {},
   "outputs": [],
   "source": [
    "p0 = loss_plot(history[\"charge_loss\"].values, history[\"charge_loss\"].values, margin=0.005)\n",
    "plt.ylabel(\"charge loss\")\n",
    "plt.savefig(\"charge_loss.pdf\", bbox_inches=\"tight\")"
   ]
  },
  {
   "cell_type": "code",
   "execution_count": null,
   "id": "august-feeding",
   "metadata": {
    "scrolled": false
   },
   "outputs": [],
   "source": [
    "for icls in range(1,8):\n",
    "    fig = plt.figure()\n",
    "    ax = plt.axes()\n",
    "    msk = (ycand_f[:, 0] == icls)\n",
    "    plt.hist(ypred_raw_f[msk & (X_f[:, 0] != 0), icls], bins=100, density=1, histtype=\"step\", lw=2, color=\"blue\", label=\"true \"+pid_names[icls]);\n",
    "    plt.hist(ypred_raw_f[~msk & (X_f[:, 0] != 0), icls], bins=100, density=1, histtype=\"step\", lw=2, color=\"red\", label=\"other particles\");\n",
    "    plt.yscale(\"log\")\n",
    "    plt.title(\"Particle reconstruction for {}\".format(pid_names[icls]), y=1.05)\n",
    "    plt.xlabel(\"Classification output {}\".format(icls))\n",
    "    plt.ylabel(\"Normalized number of particles [a.u.]\")\n",
    "    plt.legend(loc=2, frameon=False)\n",
    "    plt.ylim(1e-2, 1e4)\n",
    "    cms_label(x1=0.2, x2=0.6)\n",
    "    plt.savefig(\"cls_output_{}.pdf\".format(icls))"
   ]
  },
  {
   "cell_type": "code",
   "execution_count": null,
   "id": "simple-forestry",
   "metadata": {},
   "outputs": [],
   "source": [
    "#perm = np.random.permutation(ycand_f[msk_X].shape[0])[:100000]\n",
    "\n",
    "cm_norm = sklearn.metrics.confusion_matrix(\n",
    "    ycand_f[msk_X_f, 0],\n",
    "    ypred_id_f[msk_X_f],\n",
    "    labels=range(0,8),\n",
    "    normalize=\"true\"\n",
    ")\n",
    "\n",
    "cm = sklearn.metrics.confusion_matrix(\n",
    "    ycand_f[msk_X_f, 0],\n",
    "    ypred_id_f[msk_X_f],\n",
    "    labels=range(0,8),\n",
    ")"
   ]
  },
  {
   "cell_type": "code",
   "execution_count": null,
   "id": "empirical-network",
   "metadata": {},
   "outputs": [],
   "source": [
    "plt.figure(figsize=(8, 8))\n",
    "ax = plt.axes()\n",
    "plt.imshow(cm_norm, cmap=\"Blues\")\n",
    "plt.colorbar()\n",
    "\n",
    "cms_label(x1=0.18, x2=0.52, y=0.82)\n",
    "#sample_label(ax, x=0.8, y=1.0)\n",
    "plt.xticks(range(len(y_labels)), y_labels);\n",
    "plt.yticks(range(len(y_labels)), y_labels);\n",
    "plt.xlabel(\"Predicted PFCandidate\")\n",
    "plt.ylabel(\"True PFCandidate\")\n",
    "plt.title(\"MLPF trained on PF\", y=1.03)\n",
    "#plt.tight_layout()\n",
    "plt.savefig(\"cm_normed.pdf\", bbox_inches=\"tight\")"
   ]
  },
  {
   "cell_type": "code",
   "execution_count": null,
   "id": "prepared-fruit",
   "metadata": {},
   "outputs": [],
   "source": [
    "plt.figure(figsize=(8, 8))\n",
    "ax = plt.axes()\n",
    "plt.imshow(cm, cmap=\"Blues\")\n",
    "plt.colorbar()\n",
    "\n",
    "cms_label(x1=0.18, x2=0.52, y=0.82)\n",
    "#sample_label(ax, x=0.8, y=1.0)\n",
    "plt.xticks(range(len(y_labels)), y_labels);\n",
    "plt.yticks(range(len(y_labels)), y_labels);\n",
    "plt.xlabel(\"Predicted PFCandidate\")\n",
    "plt.ylabel(\"True PFCandidate\")\n",
    "plt.title(\"MLPF trained on PF\", y=1.03)\n",
    "plt.savefig(\"cm.pdf\", bbox_inches=\"tight\")"
   ]
  },
  {
   "cell_type": "code",
   "execution_count": null,
   "id": "civilian-diving",
   "metadata": {},
   "outputs": [],
   "source": [
    "bins = {\n",
    "    2: np.linspace(0,100,100),\n",
    "    3: np.linspace(-8,8,100),\n",
    "    4: np.linspace(-1,1,100),\n",
    "    5: np.linspace(-1,1,100),\n",
    "    6: np.linspace(0,500,100),\n",
    "}"
   ]
  },
  {
   "cell_type": "code",
   "execution_count": null,
   "id": "expressed-samba",
   "metadata": {
    "scrolled": false
   },
   "outputs": [],
   "source": [
    "for icls in range(1,8):\n",
    "    for ivar in range(2,7):\n",
    "        plt.figure()\n",
    "        ax = plt.axes()\n",
    "        b = bins[ivar]\n",
    "        #plt.hist(ygen_f[ygen_f[:, 0]==icls, ivar], bins=b, histtype=\"step\", lw=2, label=\"gen\");\n",
    "        plt.hist(ycand_f[ycand_f[:, 0]==icls, ivar], bins=b, histtype=\"step\", lw=2, label=\"PF\");\n",
    "        plt.hist(ypred_f[ypred_id_f==icls, ivar], bins=b, histtype=\"step\", lw=2, label=\"MLPF\");\n",
    "        plt.yscale(\"log\")\n",
    "        plt.legend()\n",
    "        plt.title(pid_names_long[icls], y=1.05)\n",
    "        plt.xlabel(var_names[ivar])\n",
    "        plt.ylabel(\"Number of particles\")\n",
    "        cms_label(x1=0.2, x2=0.6)\n",
    "        plt.savefig(\"distribution_icls{}_ivar{}.pdf\".format(icls, ivar))"
   ]
  },
  {
   "cell_type": "code",
   "execution_count": null,
   "id": "paperback-timeline",
   "metadata": {},
   "outputs": [],
   "source": [
    "def plot_particle_regression(ivar=6, icls=2, particle_label=\"Neutral hadrons\", log=True, minval=-1, maxval=3, norm=matplotlib.colors.LogNorm()):\n",
    "    plt.figure(figsize=(6,5))\n",
    "    ax = plt.axes()\n",
    "    \n",
    "    \n",
    "    bins = np.linspace(minval, maxval, 100)\n",
    "    msk_both = (ypred_id_f == icls) & (ycand_f[:, 0]==icls)\n",
    "    \n",
    "    vals_true = ycand_f[msk_both, ivar]\n",
    "    vals_pred = ypred_f[msk_both, ivar]\n",
    "    \n",
    "    if log:\n",
    "        vals_true = np.log10(vals_true)\n",
    "        vals_pred = np.log10(vals_pred)\n",
    "    \n",
    "    plt.hist2d(\n",
    "        vals_true,\n",
    "        vals_pred,\n",
    "        bins=(bins, bins),\n",
    "        cmap=\"Blues\", norm=norm\n",
    "    )\n",
    "    \n",
    "    plt.colorbar()\n",
    "    plt.plot([minval, maxval], [minval, maxval], color=\"black\", ls=\"--\", lw=0.5)\n",
    "    plt.xlim(minval, maxval)\n",
    "    plt.ylim(minval, maxval)\n",
    "    cms_label(x1=0.2, x2=0.48)\n",
    "    plt.text(0.02, 0.95, particle_label, transform=ax.transAxes)\n",
    "    ax.set_xticks(ax.get_yticks());"
   ]
  },
  {
   "cell_type": "code",
   "execution_count": null,
   "id": "ecological-toner",
   "metadata": {},
   "outputs": [],
   "source": [
    "plot_particle_regression(ivar=6, icls=1, particle_label=\"Charged hadrons\")\n",
    "plt.xlabel(\"PFCandidate $\\log_{10}$ E/GeV\")\n",
    "plt.ylabel(\"MLPFCandidate $\\log_{10}$ E/GeV\")\n",
    "plt.savefig(\"energy_corr_cls1.pdf\", bbox_inches=\"tight\")"
   ]
  },
  {
   "cell_type": "code",
   "execution_count": null,
   "id": "transparent-remedy",
   "metadata": {},
   "outputs": [],
   "source": [
    "plot_particle_regression(ivar=6, icls=2, particle_label=\"Neutral hadrons\")\n",
    "plt.xlabel(\"PFCandidate $\\log_{10}$ E/GeV\")\n",
    "plt.ylabel(\"MLPFCandidate $\\log_{10}$ E/GeV\")\n",
    "plt.savefig(\"energy_corr_cls2.pdf\", bbox_inches=\"tight\")"
   ]
  },
  {
   "cell_type": "code",
   "execution_count": null,
   "id": "promotional-checklist",
   "metadata": {},
   "outputs": [],
   "source": [
    "plot_particle_regression(ivar=3, icls=1, particle_label=\"Charged hadrons\", log=False, minval=-4, maxval=4, norm=None)\n",
    "plt.xlabel(\"PFCandidate $\\eta$\")\n",
    "plt.ylabel(\"MLPFCandidate $\\eta$\")\n",
    "plt.savefig(\"eta_corr_cls1.pdf\", bbox_inches=\"tight\")"
   ]
  },
  {
   "cell_type": "code",
   "execution_count": null,
   "id": "suitable-kansas",
   "metadata": {},
   "outputs": [],
   "source": [
    "plot_particle_regression(ivar=3, icls=2, particle_label=\"Neutral hadrons\", log=False, minval=-4, maxval=4, norm=None)\n",
    "plt.xlabel(\"PFCandidate $\\eta$\")\n",
    "plt.ylabel(\"MLPFCandidate $\\eta$\")\n",
    "plt.savefig(\"eta_corr_cls2.pdf\", bbox_inches=\"tight\")"
   ]
  },
  {
   "cell_type": "code",
   "execution_count": null,
   "id": "restricted-million",
   "metadata": {},
   "outputs": [],
   "source": [
    "plot_particle_regression(ivar=6, icls=3, particle_label=\"HF\", minval=0.0, maxval=4, norm=None)\n",
    "plt.xlabel(\"PFCandidate $\\log_{10}$ E/GeV\")\n",
    "plt.ylabel(\"MLPFCandidate $\\log_{10}$ E/GeV\")"
   ]
  },
  {
   "cell_type": "code",
   "execution_count": null,
   "id": "raising-first",
   "metadata": {},
   "outputs": [],
   "source": [
    "plot_particle_regression(ivar=6, icls=4, particle_label=\"HF\", minval=0.0, maxval=4, norm=None)\n",
    "plt.xlabel(\"PFCandidate $\\log_{10}$ E/GeV\")\n",
    "plt.ylabel(\"MLPFCandidate $\\log_{10}$ E/GeV\")"
   ]
  },
  {
   "cell_type": "markdown",
   "id": "4a3ab75a",
   "metadata": {},
   "source": [
    "## Gen level"
   ]
  },
  {
   "cell_type": "code",
   "execution_count": null,
   "id": "700c7700",
   "metadata": {
    "scrolled": false
   },
   "outputs": [],
   "source": [
    "for icls in range(1,8):\n",
    "    npred = np.sum(ypred_id == icls, axis=1)\n",
    "    ncand = np.sum(ycand[:, :, 0] == icls, axis=1)\n",
    "    ngen = np.sum(ygen[:, :, 0] == icls, axis=1)\n",
    "    plt.figure(figsize=(6,6))\n",
    "    plt.scatter(ngen, ncand, marker=\".\", alpha=0.5, label=\"PF\")\n",
    "    plt.scatter(ngen, npred, marker=\".\", alpha=0.5, label=\"MLPF\")\n",
    "    plt.legend(loc=\"best\", frameon=False)\n",
    "    a = 0.5*min(np.min(ngen), np.min(ngen))\n",
    "    b = 2*max(np.max(ngen), np.max(ngen))\n",
    "    plt.xlim(a,b)\n",
    "    plt.ylim(a,b)\n",
    "    plt.plot([a,b],[a,b], color=\"black\", ls=\"--\")\n",
    "    plt.title(pid_names_long[icls],y=1.05)\n",
    "    plt.xlabel(\"number of gen particles\")\n",
    "    plt.ylabel(\"number of PFCandidates\")\n",
    "    cms_label(x2=0.6, y=0.89)\n",
    "#     plt.savefig(\"num_cls{}.pdf\".format(icls))\n"
   ]
  },
  {
   "cell_type": "code",
   "execution_count": null,
   "id": "5661ff16",
   "metadata": {},
   "outputs": [],
   "source": [
    "bins = np.linspace(0,500,100)\n",
    "mplhep.histplot(np.histogram(ygen_f[ygen_f[:, 0]==2, 6], bins=bins))\n",
    "mplhep.histplot(np.histogram(ycand_f[ycand_f[:, 0]==2, 6], bins=bins))\n",
    "mplhep.histplot(np.histogram(ypred_f[ypred_f[:, 0]==2, 6], bins=bins))\n",
    "plt.yscale(\"log\")"
   ]
  },
  {
   "cell_type": "code",
   "execution_count": null,
   "id": "82f29ef8",
   "metadata": {},
   "outputs": [],
   "source": [
    "icls = 4\n",
    "bins = np.linspace(-200,200,100)\n",
    "particle_label = \"neutral hadrons\"\n",
    "\n",
    "msk_cand = (ygen_f[:, 0]==icls) & (ycand_f[:, 0]==icls)\n",
    "msk_pred = (ygen_f[:, 0]==icls) & (ypred_f[:, 0]==icls)\n",
    "\n",
    "vals_gen1 = ygen_f[msk_cand, 6]\n",
    "vals_gen2 = ygen_f[msk_pred, 6]\n",
    "vals_cand = ycand_f[msk_cand, 6]\n",
    "vals_pred = ypred_f[msk_pred, 6]\n",
    "\n",
    "res_cand = vals_gen1 - vals_cand\n",
    "res_pred = vals_gen2 - vals_pred\n",
    "\n",
    "plt.figure(figsize=(5,5))\n",
    "ax = plt.axes()\n",
    "plt.hist(\n",
    "    res_cand,\n",
    "    bins=bins, histtype=\"step\", lw=2,\n",
    "    label=\"PF, $\\mu={:.2f}, \\sigma={:.2f}$\".format(np.mean(res_cand), np.std(res_cand)));\n",
    "\n",
    "plt.hist(res_pred,\n",
    "    bins=bins,\n",
    "    histtype=\"step\", lw=2,\n",
    "    label=\"MLPF, $\\mu={:.2f}, \\sigma={:.2f}$\".format(np.mean(res_pred), np.std(res_pred))\n",
    ");\n",
    "\n",
    "plt.yscale(\"log\")\n",
    "plt.ylabel(\"Number of particles / bin\")\n",
    "cms_label(x1=0.21, x2=0.55)\n",
    "plt.ylim(top=10**9)\n",
    "plt.text(0.02, 0.95, particle_label, transform=ax.transAxes)\n",
    "plt.xlabel(\"particle $E_{\\mathrm{gen}} - E_{\\mathrm{reco}}$ [GeV]\")\n",
    "plt.legend(frameon=False)"
   ]
  },
  {
   "cell_type": "code",
   "execution_count": null,
   "id": "338f50e9",
   "metadata": {},
   "outputs": [],
   "source": []
  }
 ],
 "metadata": {
  "kernelspec": {
   "display_name": "Python 3 (ipykernel)",
   "language": "python",
   "name": "python3"
  },
  "language_info": {
   "codemirror_mode": {
    "name": "ipython",
    "version": 3
   },
   "file_extension": ".py",
   "mimetype": "text/x-python",
   "name": "python",
   "nbconvert_exporter": "python",
   "pygments_lexer": "ipython3",
   "version": "3.8.10"
  }
 },
 "nbformat": 4,
 "nbformat_minor": 5
}
